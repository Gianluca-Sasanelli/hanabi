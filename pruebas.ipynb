{
 "cells": [
  {
   "cell_type": "code",
   "execution_count": 7,
   "metadata": {},
   "outputs": [],
   "source": [
    "from game import Game"
   ]
  },
  {
   "cell_type": "code",
   "execution_count": 8,
   "metadata": {},
   "outputs": [],
   "source": [
    "game = Game(n_players=3)"
   ]
  },
  {
   "cell_type": "code",
   "execution_count": 9,
   "metadata": {},
   "outputs": [
    {
     "data": {
      "text/plain": [
       "{0: [{'Color': 'Blue', 'Number': 1},\n",
       "  {'Color': 'Green', 'Number': 4},\n",
       "  {'Color': 'Green', 'Number': 1},\n",
       "  {'Color': 'Yellow', 'Number': 4},\n",
       "  {'Color': 'White', 'Number': 2}],\n",
       " 2: [{'Color': 'Red', 'Number': 3},\n",
       "  {'Color': 'Blue', 'Number': 4},\n",
       "  {'Color': 'Yellow', 'Number': 4},\n",
       "  {'Color': 'Blue', 'Number': 1},\n",
       "  {'Color': 'Rainbow', 'Number': 1}]}"
      ]
     },
     "execution_count": 9,
     "metadata": {},
     "output_type": "execute_result"
    }
   ],
   "source": [
    "# Player 0 gets the view and plays\n",
    "game.get_player_view(1)"
   ]
  },
  {
   "cell_type": "code",
   "execution_count": 6,
   "metadata": {},
   "outputs": [
    {
     "data": {
      "text/plain": [
       "{'Lifes': 3,\n",
       " 'Hints': 8,\n",
       " 'Discard Pile': [{'Color': 'Blue', 'Number': 4}],\n",
       " 'Played Cards': {'Red': 0,\n",
       "  'Blue': 0,\n",
       "  'Yellow': 0,\n",
       "  'Green': 0,\n",
       "  'White': 0,\n",
       "  'Rainbow': 0}}"
      ]
     },
     "execution_count": 6,
     "metadata": {},
     "output_type": "execute_result"
    }
   ],
   "source": [
    "game.get_board_view()"
   ]
  },
  {
   "cell_type": "code",
   "execution_count": 5,
   "metadata": {},
   "outputs": [],
   "source": [
    "# Turn Discard Schema\n",
    "game.play_turn(\"Discard\", {\n",
    "    \"card_position\": 2\n",
    "})"
   ]
  },
  {
   "cell_type": "code",
   "execution_count": 14,
   "metadata": {},
   "outputs": [],
   "source": [
    "# Turn Play Schema\n",
    "game.play_turn(\"Play\", {\n",
    "    \"card_position\": 1\n",
    "})"
   ]
  },
  {
   "cell_type": "code",
   "execution_count": 4,
   "metadata": {},
   "outputs": [],
   "source": [
    "# Turn Hint Schema\n",
    "game.play_turn(\"Hint\", {\n",
    "    \"hint_receiver\": game.players[0],\n",
    "    \"hint_type\": \"N\",\n",
    "    \"hint_info\": 1\n",
    "})"
   ]
  },
  {
   "cell_type": "code",
   "execution_count": 6,
   "metadata": {},
   "outputs": [
    {
     "data": {
      "text/plain": [
       "{0: ['Color: Red Number: 2',\n",
       "  'Color: Yellow Number: 1',\n",
       "  'Color: Red Number: 1',\n",
       "  'Color: White Number: 1',\n",
       "  'Color: Yellow Number: 2'],\n",
       " 2: ['Color: Blue Number: 4',\n",
       "  'Color: Blue Number: 1',\n",
       "  'Color: White Number: 4',\n",
       "  'Color: White Number: 1',\n",
       "  'Color: Red Number: 1']}"
      ]
     },
     "execution_count": 6,
     "metadata": {},
     "output_type": "execute_result"
    }
   ],
   "source": [
    "# Player 1 gets the view and plays\n",
    "game.get_player_view(1)"
   ]
  },
  {
   "cell_type": "code",
   "execution_count": 7,
   "metadata": {},
   "outputs": [],
   "source": [
    "# Player 1 plays Hint\n",
    "game.play_turn(\"Hint\", {\n",
    "    \"hint_receiver\": game.players[0],\n",
    "    \"hint_type\": \"N\",\n",
    "    \"hint_info\": 1\n",
    "})\n",
    "\n",
    "# game.play_turn(\"Play\", {\n",
    "#     \"card_position\": 2\n",
    "# })"
   ]
  },
  {
   "cell_type": "code",
   "execution_count": 8,
   "metadata": {},
   "outputs": [],
   "source": [
    "# Example: Player 2 plays card at position 1\n",
    "game.play_turn(\"Play\", {\n",
    "    \"card_position\": 2\n",
    "})\n",
    "# game.play_turn(\"Discard\", {\n",
    "#     \"card_position\": 0\n",
    "# })"
   ]
  },
  {
   "cell_type": "code",
   "execution_count": null,
   "metadata": {},
   "outputs": [
    {
     "name": "stdout",
     "output_type": "stream",
     "text": [
      "Invalid action: 'Deck' object has no attribute 'pop'\n"
     ]
    }
   ],
   "source": [
    "\n",
    "\n",
    "# Example: Player 0 gives a hint to player 1 about \"Blue\"\n",
    "\n",
    "\n",
    "# # Example: Player 1 plays card at position 2\n",
    "# game.play_turn(\"Play\", {\n",
    "#     \"card_position\": 2\n",
    "# })\n",
    "\n",
    "# # Example: Player 2 discards card at position 0\n",
    "# game.play_turn(\"Discard\", {\n",
    "#     \"card_position\": 0\n",
    "})\n"
   ]
  },
  {
   "cell_type": "code",
   "execution_count": null,
   "metadata": {},
   "outputs": [],
   "source": []
  }
 ],
 "metadata": {
  "kernelspec": {
   "display_name": "base",
   "language": "python",
   "name": "python3"
  },
  "language_info": {
   "codemirror_mode": {
    "name": "ipython",
    "version": 3
   },
   "file_extension": ".py",
   "mimetype": "text/x-python",
   "name": "python",
   "nbconvert_exporter": "python",
   "pygments_lexer": "ipython3",
   "version": "3.9.13"
  }
 },
 "nbformat": 4,
 "nbformat_minor": 2
}
