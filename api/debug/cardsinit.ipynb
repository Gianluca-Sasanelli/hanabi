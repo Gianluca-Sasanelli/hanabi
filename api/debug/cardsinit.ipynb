{
 "cells": [
  {
   "cell_type": "code",
   "execution_count": 2,
   "id": "c4906307",
   "metadata": {},
   "outputs": [
    {
     "data": {
      "text/plain": [
       "True"
      ]
     },
     "execution_count": 2,
     "metadata": {},
     "output_type": "execute_result"
    }
   ],
   "source": [
    "import os\n",
    "from supabase import create_client, Client\n",
    "from dotenv import load_dotenv\n",
    "load_dotenv()"
   ]
  },
  {
   "cell_type": "code",
   "execution_count": 3,
   "id": "3535ee8e",
   "metadata": {},
   "outputs": [],
   "source": [
    "url: str = os.environ.get(\"SUPABASE_URL\")\n",
    "key: str = os.environ.get(\"SUPABASE_SERVICE_ROLE_KEY\") "
   ]
  },
  {
   "cell_type": "code",
   "execution_count": 4,
   "id": "7ba40c4c",
   "metadata": {},
   "outputs": [],
   "source": [
    "supabase: Client = create_client(url, key)"
   ]
  },
  {
   "cell_type": "code",
   "execution_count": 5,
   "id": "6abb6c07",
   "metadata": {},
   "outputs": [],
   "source": [
    "COLORS = [\"Red\", \"Yellow\", \"Green\", \"Blue\", \"White\"]\n",
    "VALUES = [1, 2, 3, 4, 5]\n",
    "cards_to_insert = [\n",
    "    {\"color\": color, \"value\": value}\n",
    "    for color in COLORS\n",
    "    for value in VALUES\n",
    "]\n"
   ]
  },
  {
   "cell_type": "code",
   "execution_count": 6,
   "id": "7c70cc4d",
   "metadata": {},
   "outputs": [
    {
     "data": {
      "text/plain": [
       "[{'color': 'Red', 'value': 1},\n",
       " {'color': 'Red', 'value': 2},\n",
       " {'color': 'Red', 'value': 3},\n",
       " {'color': 'Red', 'value': 4},\n",
       " {'color': 'Red', 'value': 5},\n",
       " {'color': 'Yellow', 'value': 1},\n",
       " {'color': 'Yellow', 'value': 2},\n",
       " {'color': 'Yellow', 'value': 3},\n",
       " {'color': 'Yellow', 'value': 4},\n",
       " {'color': 'Yellow', 'value': 5},\n",
       " {'color': 'Green', 'value': 1},\n",
       " {'color': 'Green', 'value': 2},\n",
       " {'color': 'Green', 'value': 3},\n",
       " {'color': 'Green', 'value': 4},\n",
       " {'color': 'Green', 'value': 5},\n",
       " {'color': 'Blue', 'value': 1},\n",
       " {'color': 'Blue', 'value': 2},\n",
       " {'color': 'Blue', 'value': 3},\n",
       " {'color': 'Blue', 'value': 4},\n",
       " {'color': 'Blue', 'value': 5},\n",
       " {'color': 'White', 'value': 1},\n",
       " {'color': 'White', 'value': 2},\n",
       " {'color': 'White', 'value': 3},\n",
       " {'color': 'White', 'value': 4},\n",
       " {'color': 'White', 'value': 5}]"
      ]
     },
     "execution_count": 6,
     "metadata": {},
     "output_type": "execute_result"
    }
   ],
   "source": [
    "cards_to_insert"
   ]
  }
 ],
 "metadata": {
  "kernelspec": {
   "display_name": ".venv",
   "language": "python",
   "name": "python3"
  },
  "language_info": {
   "codemirror_mode": {
    "name": "ipython",
    "version": 3
   },
   "file_extension": ".py",
   "mimetype": "text/x-python",
   "name": "python",
   "nbconvert_exporter": "python",
   "pygments_lexer": "ipython3",
   "version": "3.13.3"
  }
 },
 "nbformat": 4,
 "nbformat_minor": 5
}
